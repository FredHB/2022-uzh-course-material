{
 "cells": [
  {
   "cell_type": "markdown",
   "metadata": {},
   "source": [
    "# 2. Python Molecules: Lists, Tuples, and Dictionaries"
   ]
  },
  {
   "cell_type": "markdown",
   "metadata": {},
   "source": [
    "So far, we have talked about some atomic data types: booleans, numbers, and strings. We rarely operate on only one object at a time though. We should be able to store them in some kind of container. This is where our additional data types come in: lists, tuples, and dictionaries. "
   ]
  },
  {
   "cell_type": "markdown",
   "metadata": {},
   "source": [
    "## 1 Lists"
   ]
  },
  {
   "cell_type": "markdown",
   "metadata": {},
   "source": [
    "A list is a sequence of objects which can be numbers, booleans, strings ... even other lists. Lists are mutable, which means that we can add elements or change them in place."
   ]
  },
  {
   "cell_type": "markdown",
   "metadata": {},
   "source": [
    "### 1.1 Creating lists"
   ]
  },
  {
   "cell_type": "markdown",
   "metadata": {},
   "source": [
    "Creating an empty list is easy, you just need squared brackets. "
   ]
  },
  {
   "cell_type": "code",
   "execution_count": 28,
   "metadata": {},
   "outputs": [
    {
     "data": {
      "text/plain": [
       "[]"
      ]
     },
     "execution_count": 28,
     "metadata": {},
     "output_type": "execute_result"
    }
   ],
   "source": [
    "my_list = []\n",
    "my_list"
   ]
  },
  {
   "cell_type": "markdown",
   "metadata": {},
   "source": [
    "By the way, empty lists are evaluated as `False` when converted to booleans. "
   ]
  },
  {
   "cell_type": "code",
   "execution_count": 29,
   "metadata": {},
   "outputs": [
    {
     "data": {
      "text/plain": [
       "False"
      ]
     },
     "execution_count": 29,
     "metadata": {},
     "output_type": "execute_result"
    }
   ],
   "source": [
    "bool([])"
   ]
  },
  {
   "cell_type": "markdown",
   "metadata": {},
   "source": [
    "Again, this might be weird but will come in handy later on. An empty list is of course very boring. So maybe let's create lists with content."
   ]
  },
  {
   "cell_type": "code",
   "execution_count": 30,
   "metadata": {},
   "outputs": [
    {
     "name": "stdout",
     "output_type": "stream",
     "text": [
      "[1, 2, 3, 4, 5]\n"
     ]
    }
   ],
   "source": [
    "my_list = [1, 2, 3, 4, 5]\n",
    "print(my_list)"
   ]
  },
  {
   "cell_type": "code",
   "execution_count": 31,
   "metadata": {},
   "outputs": [
    {
     "name": "stdout",
     "output_type": "stream",
     "text": [
      "['A', 'list', 'with', 'strings.']\n"
     ]
    }
   ],
   "source": [
    "my_list = ['A', 'list', 'with', 'strings.']\n",
    "print(my_list)"
   ]
  },
  {
   "cell_type": "markdown",
   "metadata": {},
   "source": [
    "Low and behold, a list can contain items of different types. "
   ]
  },
  {
   "cell_type": "code",
   "execution_count": 32,
   "metadata": {},
   "outputs": [
    {
     "name": "stdout",
     "output_type": "stream",
     "text": [
      "[1, 'One', True]\n"
     ]
    }
   ],
   "source": [
    "my_nonhomogenous_list = [1, 'One', True]\n",
    "print(my_nonhomogenous_list)"
   ]
  },
  {
   "cell_type": "markdown",
   "metadata": {},
   "source": [
    "A second way to create lists is using the `list` function which converts data types."
   ]
  },
  {
   "cell_type": "code",
   "execution_count": 33,
   "metadata": {},
   "outputs": [
    {
     "name": "stdout",
     "output_type": "stream",
     "text": [
      "[]\n"
     ]
    }
   ],
   "source": [
    "my_list = list()\n",
    "print(my_list)"
   ]
  },
  {
   "cell_type": "markdown",
   "metadata": {},
   "source": [
    "When you convert a string to a list, it does __not__ become a list with one element, namely the string. Instead, it breaks down the string into characters and stores each as an element. "
   ]
  },
  {
   "cell_type": "code",
   "execution_count": 35,
   "metadata": {},
   "outputs": [
    {
     "name": "stdout",
     "output_type": "stream",
     "text": [
      "['B', 'u', 't', 't', 'e', 'r']\n"
     ]
    }
   ],
   "source": [
    "list_of_characters = list('Butter')\n",
    "print(list_of_characters)"
   ]
  },
  {
   "cell_type": "markdown",
   "metadata": {},
   "source": [
    "This example also shows you that elements in a list do not have to be unique. "
   ]
  },
  {
   "cell_type": "markdown",
   "metadata": {},
   "source": [
    "To add one more level of abstraction, note that lists can also contain other lists. "
   ]
  },
  {
   "cell_type": "code",
   "execution_count": 36,
   "metadata": {},
   "outputs": [
    {
     "name": "stdout",
     "output_type": "stream",
     "text": [
      "[['a', 'b'], ['c', 'd']]\n"
     ]
    }
   ],
   "source": [
    "list_1 = ['a', 'b']\n",
    "list_2 = ['c', 'd']\n",
    "\n",
    "my_meta_list = [list_1, list_2]\n",
    "print(my_meta_list)"
   ]
  },
  {
   "cell_type": "markdown",
   "metadata": {},
   "source": [
    "Our meta list contains two elements, `list_1` and `list_2`, which each contain two elements. Note that this is not the same as having only one list with the four string elements. "
   ]
  },
  {
   "cell_type": "markdown",
   "metadata": {},
   "source": [
    "### 1.2 Indexing and slicing lists"
   ]
  },
  {
   "cell_type": "markdown",
   "metadata": {},
   "source": [
    "Indexing and slicing works similar to indexing and slicing for strings which we have encountered before. "
   ]
  },
  {
   "cell_type": "code",
   "execution_count": null,
   "metadata": {
    "collapsed": true
   },
   "outputs": [],
   "source": [
    "my_list = ['a', 'b', 'c', 'd', 'e', 'f']"
   ]
  },
  {
   "cell_type": "code",
   "execution_count": null,
   "metadata": {},
   "outputs": [],
   "source": [
    "# first element\n",
    "my_list[0]"
   ]
  },
  {
   "cell_type": "code",
   "execution_count": null,
   "metadata": {},
   "outputs": [],
   "source": [
    "# first to third element\n",
    "my_list[0:3]"
   ]
  },
  {
   "cell_type": "code",
   "execution_count": null,
   "metadata": {},
   "outputs": [],
   "source": [
    "# every second element\n",
    "my_list[::2]"
   ]
  },
  {
   "cell_type": "code",
   "execution_count": null,
   "metadata": {},
   "outputs": [],
   "source": [
    "# reverse order\n",
    "my_list[::-1]"
   ]
  },
  {
   "cell_type": "markdown",
   "metadata": {},
   "source": [
    "Now, with a list of lists this gets a little bit more complicated, we need the squared brackets two times. "
   ]
  },
  {
   "cell_type": "code",
   "execution_count": null,
   "metadata": {
    "collapsed": true
   },
   "outputs": [],
   "source": [
    "list_1 = ['a', 'b']\n",
    "list_2 = ['c', 'd']\n",
    "\n",
    "my_meta_list = [list_1, list_2]"
   ]
  },
  {
   "cell_type": "code",
   "execution_count": null,
   "metadata": {},
   "outputs": [],
   "source": [
    "my_meta_list[0]"
   ]
  },
  {
   "cell_type": "markdown",
   "metadata": {},
   "source": [
    "With this command, we fetch the first element from `my_meta_list` which is also a list consisting of two elements. "
   ]
  },
  {
   "cell_type": "code",
   "execution_count": null,
   "metadata": {},
   "outputs": [],
   "source": [
    "my_meta_list[1]"
   ]
  },
  {
   "cell_type": "code",
   "execution_count": null,
   "metadata": {},
   "outputs": [],
   "source": [
    "my_meta_list[0][1]"
   ]
  },
  {
   "cell_type": "markdown",
   "metadata": {},
   "source": [
    "This command let's us fetch the second element in `list_1` which is the first element of `my_meta_list`. Do not get confused by the offsets here!"
   ]
  },
  {
   "cell_type": "markdown",
   "metadata": {},
   "source": [
    "## Challenge\n",
    "\n",
    "How would you get the letter `q` from this complicated nested list? How about the letter `k`?"
   ]
  },
  {
   "cell_type": "code",
   "execution_count": null,
   "metadata": {},
   "outputs": [],
   "source": [
    "abc = ['a',[['b'],'c','d'],['e',['f','g',['h',[['i',[['j'],['k']],'l'],'m'],'n']]],\n",
    "       ['o',['p',['q']]],[[['r'],'s','t'],'u','v','w'],'x',['y'],'z']\n",
    "\n",
    "# ---\n",
    "# add your code here\n",
    "\n",
    "\n",
    "\n",
    "# ---\n",
    "print(q)\n",
    "print(k)"
   ]
  },
  {
   "cell_type": "markdown",
   "metadata": {},
   "source": [
    "### 1.3 Add items and combine lists with `append`, `insert`, and `extend`"
   ]
  },
  {
   "cell_type": "markdown",
   "metadata": {},
   "source": [
    "There are several ways to add elements to our lists. If we want to add an item, we can use the `append` method. Note that you do not have to reassign the list, since lists are mutable, i.e. they can be changed in place."
   ]
  },
  {
   "cell_type": "code",
   "execution_count": 48,
   "metadata": {},
   "outputs": [
    {
     "name": "stdout",
     "output_type": "stream",
     "text": [
      "[1, 'Random string', True, ['Hello', 'World']]\n"
     ]
    }
   ],
   "source": [
    "my_list = []\n",
    "my_list.append(1)\n",
    "my_list.append('Random string')\n",
    "my_list.append(True)\n",
    "my_list.append(['Hello', 'World'])\n",
    "print(my_list)"
   ]
  },
  {
   "cell_type": "markdown",
   "metadata": {},
   "source": [
    "If you want to add an item at a specific place in the list, you can use the `insert` method. "
   ]
  },
  {
   "cell_type": "code",
   "execution_count": 49,
   "metadata": {},
   "outputs": [
    {
     "name": "stdout",
     "output_type": "stream",
     "text": [
      "['Wittgenstein', 'Sen', 'Russell', 'Koorsgard']\n"
     ]
    }
   ],
   "source": [
    "my_philosophers = ['Wittgenstein', 'Sen', 'Koorsgard']\n",
    "my_philosophers.insert(2, 'Russell')\n",
    "print(my_philosophers)"
   ]
  },
  {
   "cell_type": "markdown",
   "metadata": {},
   "source": [
    "If you want to combine __two lists__, use the `extend` method or the `+=` operator. "
   ]
  },
  {
   "cell_type": "code",
   "execution_count": 50,
   "metadata": {},
   "outputs": [
    {
     "name": "stdout",
     "output_type": "stream",
     "text": [
      "['Koorsgard', 'Sen', 'Rawls', 'Hayek', 'Keynes', 'Friedman']\n"
     ]
    }
   ],
   "source": [
    "my_philosophers = ['Koorsgard', 'Sen', 'Rawls']\n",
    "my_economists = ['Hayek', 'Keynes', 'Friedman']\n",
    "my_philosophers.extend(my_economists)\n",
    "print(my_philosophers)"
   ]
  },
  {
   "cell_type": "code",
   "execution_count": 51,
   "metadata": {},
   "outputs": [
    {
     "name": "stdout",
     "output_type": "stream",
     "text": [
      "['Hayek', 'Keynes', 'Friedman', 'Nozick', 'Beauvoir', 'Rawls']\n"
     ]
    }
   ],
   "source": [
    "my_philosophers = ['Nozick', 'Beauvoir', 'Rawls']\n",
    "my_economists = ['Hayek', 'Keynes', 'Friedman']\n",
    "my_economists += my_philosophers\n",
    "print(my_economists)"
   ]
  },
  {
   "cell_type": "markdown",
   "metadata": {},
   "source": [
    "Finally, a very simple way to combine two lists in an third is to use the `+` operator. "
   ]
  },
  {
   "cell_type": "code",
   "execution_count": 52,
   "metadata": {},
   "outputs": [
    {
     "name": "stdout",
     "output_type": "stream",
     "text": [
      "['Hayek', 'Keynes', 'Friedman', 'Nozick', 'Beauvoir', 'Rawls']\n"
     ]
    }
   ],
   "source": [
    "my_philosophers = ['Nozick', 'Beauvoir', 'Rawls']\n",
    "my_economists = ['Hayek', 'Keynes', 'Friedman']\n",
    "my_scientists = my_economists + my_philosophers\n",
    "print(my_scientists)"
   ]
  },
  {
   "cell_type": "markdown",
   "metadata": {},
   "source": [
    "This also means that instead of `append`ing an element to a list, you can always convert your element into a list and add it. However, remember that you have to overwrite the old list"
   ]
  },
  {
   "cell_type": "code",
   "execution_count": 53,
   "metadata": {},
   "outputs": [
    {
     "name": "stdout",
     "output_type": "stream",
     "text": [
      "['Nozick', 'Beauvoir', 'Rawls']\n"
     ]
    }
   ],
   "source": [
    "my_philosophers + ['Russel']\n",
    "print(my_philosophers)"
   ]
  },
  {
   "cell_type": "code",
   "execution_count": 55,
   "metadata": {},
   "outputs": [
    {
     "name": "stdout",
     "output_type": "stream",
     "text": [
      "['Nozick', 'Beauvoir', 'Rawls', 'Russel', 'Russel']\n"
     ]
    }
   ],
   "source": [
    "my_philosophers += ['Russel']\n",
    "print(my_philosophers)"
   ]
  },
  {
   "cell_type": "code",
   "execution_count": 56,
   "metadata": {},
   "outputs": [
    {
     "name": "stdout",
     "output_type": "stream",
     "text": [
      "['Nozick', 'Beauvoir', 'Rawls', 'Russel', 'Russel', 'Russel']\n"
     ]
    }
   ],
   "source": [
    "my_philosophers.append('Russel')\n",
    "print(my_philosophers)"
   ]
  },
  {
   "cell_type": "markdown",
   "metadata": {},
   "source": [
    "### 1.4 Delete items with `del` and `remove`"
   ]
  },
  {
   "cell_type": "markdown",
   "metadata": {},
   "source": [
    "Again, we have different ways of deleting items of a list. I will only show two. The first deletes the item by offset using the `del` statement. "
   ]
  },
  {
   "cell_type": "code",
   "execution_count": 58,
   "metadata": {},
   "outputs": [
    {
     "data": {
      "text/plain": [
       "['Acemoglu', 'Robinson']"
      ]
     },
     "execution_count": 58,
     "metadata": {},
     "output_type": "execute_result"
    }
   ],
   "source": [
    "my_economists = ['Acemoglu', 'Johnson', 'Robinson']\n",
    "del my_economists[1]\n",
    "my_economists"
   ]
  },
  {
   "cell_type": "markdown",
   "metadata": {},
   "source": [
    "Secondly, we can delete an item by value using `remove`. "
   ]
  },
  {
   "cell_type": "code",
   "execution_count": 59,
   "metadata": {},
   "outputs": [
    {
     "data": {
      "text/plain": [
       "['Acemoglu', 'Robinson']"
      ]
     },
     "execution_count": 59,
     "metadata": {},
     "output_type": "execute_result"
    }
   ],
   "source": [
    "my_economists = ['Acemoglu', 'Johnson', 'Robinson']\n",
    "my_economists.remove('Johnson')\n",
    "my_economists"
   ]
  },
  {
   "cell_type": "markdown",
   "metadata": {},
   "source": [
    "Unfortunately, multiple-indexing does not work in Python :("
   ]
  },
  {
   "cell_type": "code",
   "execution_count": 64,
   "metadata": {},
   "outputs": [
    {
     "ename": "TypeError",
     "evalue": "list indices must be integers or slices, not list",
     "output_type": "error",
     "traceback": [
      "\u001b[0;31m---------------------------------------------------------------------------\u001b[0m",
      "\u001b[0;31mTypeError\u001b[0m                                 Traceback (most recent call last)",
      "\u001b[0;32m<ipython-input-64-43db87340adb>\u001b[0m in \u001b[0;36m<module>\u001b[0;34m\u001b[0m\n\u001b[0;32m----> 1\u001b[0;31m \u001b[0mmy_economists\u001b[0m \u001b[0;34m=\u001b[0m \u001b[0mmy_economists\u001b[0m\u001b[0;34m[\u001b[0m\u001b[0;34m[\u001b[0m\u001b[0;36m1\u001b[0m\u001b[0;34m,\u001b[0m\u001b[0;36m3\u001b[0m\u001b[0;34m]\u001b[0m\u001b[0;34m]\u001b[0m\u001b[0;34m\u001b[0m\u001b[0;34m\u001b[0m\u001b[0m\n\u001b[0m",
      "\u001b[0;31mTypeError\u001b[0m: list indices must be integers or slices, not list"
     ]
    }
   ],
   "source": [
    "my_economists = my_economists[[1,3]]"
   ]
  },
  {
   "cell_type": "markdown",
   "metadata": {},
   "source": [
    "### 1.5 Change items"
   ]
  },
  {
   "cell_type": "markdown",
   "metadata": {},
   "source": [
    "Lists are mutable, this means that we can change individual items in place without creating a new list. "
   ]
  },
  {
   "cell_type": "code",
   "execution_count": null,
   "metadata": {},
   "outputs": [],
   "source": [
    "my_economists = ['Acemoglu', 'Johnson', 'Robinson']\n",
    "my_economists[1] = 'Goldin'\n",
    "print(my_economists)"
   ]
  },
  {
   "cell_type": "markdown",
   "metadata": {},
   "source": [
    "### 1.6 Some more list methods: _index_, _count_, and _sort_"
   ]
  },
  {
   "cell_type": "markdown",
   "metadata": {},
   "source": [
    "Apart from these basic methods to add, delete and chain items, there exist other useful method which we should briefly look at. The first, `index`, gives us the offset of a specific item.  "
   ]
  },
  {
   "cell_type": "code",
   "execution_count": null,
   "metadata": {},
   "outputs": [],
   "source": [
    "my_economists = ['Hayek', 'Keynes', 'Dupas']\n",
    "my_economists.index('Keynes')"
   ]
  },
  {
   "cell_type": "markdown",
   "metadata": {},
   "source": [
    "The second one, `count`, counts the number of occurences of an item. "
   ]
  },
  {
   "cell_type": "code",
   "execution_count": 68,
   "metadata": {},
   "outputs": [
    {
     "data": {
      "text/plain": [
       "2"
      ]
     },
     "execution_count": 68,
     "metadata": {},
     "output_type": "execute_result"
    }
   ],
   "source": [
    "my_economists = ['Acemoglu', 'Acemoglu', 'Johnson', 'Robinson']\n",
    "my_economists.count('Acemoglu')"
   ]
  },
  {
   "cell_type": "markdown",
   "metadata": {},
   "source": [
    "Finally, the _sort_ method can be used to sort a list in place. "
   ]
  },
  {
   "cell_type": "code",
   "execution_count": 69,
   "metadata": {},
   "outputs": [
    {
     "name": "stdout",
     "output_type": "stream",
     "text": [
      "['Robinson', 'Johnson', 'Acemoglu']\n"
     ]
    }
   ],
   "source": [
    "my_economists = ['Robinson', 'Johnson', 'Acemoglu']\n",
    "print(my_economists)"
   ]
  },
  {
   "cell_type": "code",
   "execution_count": 70,
   "metadata": {},
   "outputs": [
    {
     "name": "stdout",
     "output_type": "stream",
     "text": [
      "['Acemoglu', 'Johnson', 'Robinson']\n"
     ]
    }
   ],
   "source": [
    "my_economists.sort()\n",
    "print(my_economists)"
   ]
  },
  {
   "cell_type": "markdown",
   "metadata": {},
   "source": [
    "### 1.7 Testing for membership with _in_"
   ]
  },
  {
   "cell_type": "markdown",
   "metadata": {},
   "source": [
    "A very useful feature is that we can test whether a certain object is an item of a list. "
   ]
  },
  {
   "cell_type": "code",
   "execution_count": null,
   "metadata": {
    "collapsed": true
   },
   "outputs": [],
   "source": [
    "my_philosophers = ['Kant', 'Mill', 'Wittgenstein']"
   ]
  },
  {
   "cell_type": "code",
   "execution_count": null,
   "metadata": {},
   "outputs": [],
   "source": [
    "'Kant' in my_philosophers"
   ]
  },
  {
   "cell_type": "code",
   "execution_count": null,
   "metadata": {},
   "outputs": [],
   "source": [
    "'Monty Python' in my_philosophers"
   ]
  },
  {
   "cell_type": "markdown",
   "metadata": {},
   "source": [
    "### 1.8 Caveat: New lists"
   ]
  },
  {
   "cell_type": "markdown",
   "metadata": {},
   "source": [
    "There is one behavior of lists which might puzzle you. "
   ]
  },
  {
   "cell_type": "code",
   "execution_count": null,
   "metadata": {},
   "outputs": [],
   "source": [
    "my_economists = ['Hayek', 'Keynes']\n",
    "my_philosophers = my_economists\n",
    "my_economists.append('Ostrom')\n",
    "print(my_economists)"
   ]
  },
  {
   "cell_type": "markdown",
   "metadata": {},
   "source": [
    "So far, this is probably what you expected. However, how does the list `my_philosophers` look like? "
   ]
  },
  {
   "cell_type": "code",
   "execution_count": null,
   "metadata": {},
   "outputs": [],
   "source": [
    "print(my_philosophers)"
   ]
  },
  {
   "cell_type": "markdown",
   "metadata": {},
   "source": [
    "It also changed. Instead of creating a copy of the original list and assigning it to the variable `my_philosophers`, Python just attaches a second label to the original list objec. So, no matter whether you use the name `my_economists` or `my_philosopers`, both refer to the same object. To avoid this behavior you have to make explicit copies of the original list. This can be done using either `list` command, the `copy` method or the complete copy via slicing `[:]`. "
   ]
  },
  {
   "cell_type": "code",
   "execution_count": 71,
   "metadata": {},
   "outputs": [
    {
     "name": "stdout",
     "output_type": "stream",
     "text": [
      "['Hayek', 'Keynes']\n",
      "['Hayek', 'Keynes']\n",
      "['Hayek', 'Keynes']\n"
     ]
    }
   ],
   "source": [
    "my_economists = ['Hayek', 'Keynes']\n",
    "\n",
    "# ways of copying lists \n",
    "my_philosophers1 = list(my_economists)\n",
    "my_philosophers2 = my_economists.copy()\n",
    "my_philosophers3 = my_economists[:]\n",
    "\n",
    "my_economists.append('Marx')\n",
    "\n",
    "print(my_philosophers1)\n",
    "print(my_philosophers2)\n",
    "print(my_philosophers3)\n"
   ]
  },
  {
   "cell_type": "markdown",
   "metadata": {},
   "source": [
    "## 2 Tuples"
   ]
  },
  {
   "cell_type": "markdown",
   "metadata": {},
   "source": [
    "### 2.1 Creating a tuple"
   ]
  },
  {
   "cell_type": "markdown",
   "metadata": {
    "collapsed": true
   },
   "source": [
    "There is another 'container' object which is similar to lists, namely tuples. The main difference is that tuples are immutable, so once they are created you cannot change them. They are created by using round brackets. Note that tuples, just as lists, can also be used to store arbitrary objects. "
   ]
  },
  {
   "cell_type": "code",
   "execution_count": null,
   "metadata": {},
   "outputs": [],
   "source": [
    "my_tuple = ('1', 1, True)\n",
    "my_tuple"
   ]
  },
  {
   "cell_type": "markdown",
   "metadata": {},
   "source": [
    "Actually that is not completely true that you create tuples with round brackets. You can also create tuples without them. If you have only item you just need a trailing comma, if you have more elements, you just have to put commas between each of the items. "
   ]
  },
  {
   "cell_type": "code",
   "execution_count": 72,
   "metadata": {},
   "outputs": [
    {
     "data": {
      "text/plain": [
       "str"
      ]
     },
     "execution_count": 72,
     "metadata": {},
     "output_type": "execute_result"
    }
   ],
   "source": [
    "not_a_tuple = ('Foot')\n",
    "type(not_a_tuple)"
   ]
  },
  {
   "cell_type": "code",
   "execution_count": 73,
   "metadata": {},
   "outputs": [
    {
     "data": {
      "text/plain": [
       "tuple"
      ]
     },
     "execution_count": 73,
     "metadata": {},
     "output_type": "execute_result"
    }
   ],
   "source": [
    "one_item_tuple = 'Foot',\n",
    "type(one_item_tuple)"
   ]
  },
  {
   "cell_type": "code",
   "execution_count": 81,
   "metadata": {},
   "outputs": [
    {
     "data": {
      "text/plain": [
       "tuple"
      ]
     },
     "execution_count": 81,
     "metadata": {},
     "output_type": "execute_result"
    }
   ],
   "source": [
    "another_tuple = 'Acemoglu', 'Johnson', 'Robinson'\n",
    "type(another_tuple)"
   ]
  },
  {
   "cell_type": "markdown",
   "metadata": {},
   "source": [
    "However, note that a very similar syntax is used to assign multiple variables at the same time."
   ]
  },
  {
   "cell_type": "code",
   "execution_count": 83,
   "metadata": {},
   "outputs": [
    {
     "name": "stdout",
     "output_type": "stream",
     "text": [
      "Acemoglu\n",
      "Johnson\n",
      "Robinson\n"
     ]
    }
   ],
   "source": [
    "econ1, econ2, econ3 = 'Acemoglu', 'Johnson', 'Robinson'\n",
    "print(econ1)\n",
    "print(econ2)\n",
    "print(econ3)"
   ]
  },
  {
   "cell_type": "code",
   "execution_count": 84,
   "metadata": {},
   "outputs": [
    {
     "data": {
      "text/plain": [
       "str"
      ]
     },
     "execution_count": 84,
     "metadata": {},
     "output_type": "execute_result"
    }
   ],
   "source": [
    "type(econ1)"
   ]
  },
  {
   "cell_type": "markdown",
   "metadata": {},
   "source": [
    "To convert other objects into tuples, you can use the `tuple` function. "
   ]
  },
  {
   "cell_type": "code",
   "execution_count": 75,
   "metadata": {},
   "outputs": [
    {
     "data": {
      "text/plain": [
       "['This', 'is', 'a', 'list', 'of', 'strings']"
      ]
     },
     "execution_count": 75,
     "metadata": {},
     "output_type": "execute_result"
    }
   ],
   "source": [
    "my_list = ['This', 'is', 'a', 'list', 'of', 'strings']\n",
    "my_list"
   ]
  },
  {
   "cell_type": "code",
   "execution_count": 76,
   "metadata": {},
   "outputs": [
    {
     "data": {
      "text/plain": [
       "('This', 'is', 'a', 'list', 'of', 'strings')"
      ]
     },
     "execution_count": 76,
     "metadata": {},
     "output_type": "execute_result"
    }
   ],
   "source": [
    "my_tuple = tuple(my_list)\n",
    "my_tuple"
   ]
  },
  {
   "cell_type": "markdown",
   "metadata": {},
   "source": [
    "So, we have tuple, but the strings are not a good description of a list. Maybe change it?  "
   ]
  },
  {
   "cell_type": "code",
   "execution_count": 77,
   "metadata": {},
   "outputs": [
    {
     "ename": "TypeError",
     "evalue": "'tuple' object does not support item assignment",
     "output_type": "error",
     "traceback": [
      "\u001b[0;31m---------------------------------------------------------------------------\u001b[0m",
      "\u001b[0;31mTypeError\u001b[0m                                 Traceback (most recent call last)",
      "\u001b[0;32m<ipython-input-77-092fc06b45df>\u001b[0m in \u001b[0;36m<module>\u001b[0;34m\u001b[0m\n\u001b[0;32m----> 1\u001b[0;31m \u001b[0mmy_tuple\u001b[0m\u001b[0;34m[\u001b[0m\u001b[0;36m3\u001b[0m\u001b[0;34m]\u001b[0m \u001b[0;34m=\u001b[0m \u001b[0;34m'tuple'\u001b[0m\u001b[0;34m\u001b[0m\u001b[0;34m\u001b[0m\u001b[0m\n\u001b[0m",
      "\u001b[0;31mTypeError\u001b[0m: 'tuple' object does not support item assignment"
     ]
    }
   ],
   "source": [
    "my_tuple[3] = 'tuple'"
   ]
  },
  {
   "cell_type": "markdown",
   "metadata": {},
   "source": [
    "I already said that tuples are immutable, so changing them is not possible. "
   ]
  },
  {
   "cell_type": "markdown",
   "metadata": {},
   "source": [
    "### 2.2 Why should I ever use a tuple? "
   ]
  },
  {
   "cell_type": "markdown",
   "metadata": {},
   "source": [
    "Well, if lists can do all that tuples can do and more, why should I ever want to use them? There are several answers. First, precisely because they are immutable, they use less space. Secondly, the fact that you cannot change can also protect you from doing so. Third, tuples will be important later on when we discuss functions, as function arguments are passed as tuples. \n",
    "\n",
    "Finally, there is a cool thing called _tuple unpacking_ which gives you a very compact way of assigning variables. "
   ]
  },
  {
   "cell_type": "code",
   "execution_count": null,
   "metadata": {},
   "outputs": [],
   "source": [
    "my_tuple = ('Kant', 'Mill', 'Aristoteles')\n",
    "deontology, utilitarianism, virtue = my_tuple\n",
    "print(utilitarianism)"
   ]
  },
  {
   "cell_type": "markdown",
   "metadata": {},
   "source": [
    "Neat, right?"
   ]
  },
  {
   "cell_type": "markdown",
   "metadata": {},
   "source": [
    "## 3 Dictionaries"
   ]
  },
  {
   "cell_type": "markdown",
   "metadata": {},
   "source": [
    "OK, after having quickly rushed through tuples we will now talk about the second most important 'container' data type after lists. Dictionaries are similar to lists with the key differences being that they are unordered and you cannot retrieve items (or values as they are called here) by their offset but need to use their key. These keys must be unique. "
   ]
  },
  {
   "cell_type": "markdown",
   "metadata": {},
   "source": [
    "### 3.1 Creating a dictionary"
   ]
  },
  {
   "cell_type": "code",
   "execution_count": null,
   "metadata": {},
   "outputs": [],
   "source": [
    "my_dictionary = {'Neoclassical' : 'Marshall', 'NIE' : 'Williamson'}\n",
    "print(my_dictionary)"
   ]
  },
  {
   "cell_type": "markdown",
   "metadata": {},
   "source": [
    "To create a dictionary, you have to use curly brackets. (We could of course also have created an empty dictionary.) Each entry in a dictionary consists of a key and an associated value after the colon. Our dictionary has two keys -- the strings 'Neoclassical' and 'NIE' -- as well as two values, the strings 'Marshall' and 'Williamson'. Note that while we have used strings as keys in this example, you can use any of Python's immutable types.\n",
    "\n",
    "A second thing you might have noticed is that the order to entries changed when we printed it out. This is what I meant by calling dictionaries unordered. "
   ]
  },
  {
   "cell_type": "markdown",
   "metadata": {},
   "source": [
    "As always, another way to create a dictionary is to convert another object by using the `dict` function. You can do this with:\n",
    "* a list of two-item lists,\n",
    "* a tuple of two-item tuples,\n",
    "* a list of two-item tuples,\n",
    "* a tuple of two-item lists,\n",
    "* a list of two-character strings, and\n",
    "* a tuple of two-character strings."
   ]
  },
  {
   "cell_type": "code",
   "execution_count": null,
   "metadata": {},
   "outputs": [],
   "source": [
    "my_tuple = (('a', 'b'),('c', 'd'))\n",
    "dict(my_tuple)"
   ]
  },
  {
   "cell_type": "code",
   "execution_count": null,
   "metadata": {},
   "outputs": [],
   "source": [
    "my_tuple = ('ab', 'cd')\n",
    "dict(my_tuple)"
   ]
  },
  {
   "cell_type": "markdown",
   "metadata": {},
   "source": [
    "What happens here? "
   ]
  },
  {
   "cell_type": "code",
   "execution_count": null,
   "metadata": {},
   "outputs": [],
   "source": [
    "my_tuple = ('ab', 'ac')\n",
    "dict(my_tuple)"
   ]
  },
  {
   "cell_type": "markdown",
   "metadata": {},
   "source": [
    "I already said that the keys must be unique. In this case, we would have assigned the strings `'b'` and `'c'` the same key, the string `'a'`. This is not possible. "
   ]
  },
  {
   "cell_type": "markdown",
   "metadata": {},
   "source": [
    "### 3.2 Getting an item"
   ]
  },
  {
   "cell_type": "markdown",
   "metadata": {},
   "source": [
    "OK, so ... since the elements of a dictionary are unordered how can we get an item? It is very easy, we have to use the key to obtain the corresponding value. "
   ]
  },
  {
   "cell_type": "code",
   "execution_count": null,
   "metadata": {},
   "outputs": [],
   "source": [
    "my_philosophers = {'Marx' : 'Karl',\n",
    "                   'Wittgenstein' : 'Ludwig', \n",
    "                   'Kant' : 'Immanuel'}\n",
    "print(my_philosophers)"
   ]
  },
  {
   "cell_type": "code",
   "execution_count": null,
   "metadata": {},
   "outputs": [],
   "source": [
    "my_philosophers['Kant']"
   ]
  },
  {
   "cell_type": "markdown",
   "metadata": {},
   "source": [
    "Note however that this will throw you can error if the key does not exist. "
   ]
  },
  {
   "cell_type": "code",
   "execution_count": null,
   "metadata": {},
   "outputs": [],
   "source": [
    "my_philosophers['Hayek']"
   ]
  },
  {
   "cell_type": "markdown",
   "metadata": {},
   "source": [
    "We can get around this by using the `get` method. "
   ]
  },
  {
   "cell_type": "code",
   "execution_count": null,
   "metadata": {},
   "outputs": [],
   "source": [
    "my_philosophers.get('Hayek', 'Not a philosopher.')"
   ]
  },
  {
   "cell_type": "markdown",
   "metadata": {},
   "source": [
    "### 3.3 Add or change items and combining dictionaries with _update_"
   ]
  },
  {
   "cell_type": "markdown",
   "metadata": {},
   "source": [
    "Let's get back to our philosophers. "
   ]
  },
  {
   "cell_type": "code",
   "execution_count": null,
   "metadata": {},
   "outputs": [],
   "source": [
    "my_philosophers"
   ]
  },
  {
   "cell_type": "markdown",
   "metadata": {},
   "source": [
    "Say we want to add David Hume to our dictionary. Since dictionaries are mutable, we can do this. How you ask?  "
   ]
  },
  {
   "cell_type": "code",
   "execution_count": null,
   "metadata": {},
   "outputs": [],
   "source": [
    "my_philosophers['Hume'] = 'David'\n",
    "my_philosophers"
   ]
  },
  {
   "cell_type": "markdown",
   "metadata": {},
   "source": [
    "In the same way, we can also change the value for an existing key. "
   ]
  },
  {
   "cell_type": "code",
   "execution_count": null,
   "metadata": {},
   "outputs": [],
   "source": [
    "my_philosophers['Marx'] = 'Carlos'\n",
    "my_philosophers"
   ]
  },
  {
   "cell_type": "markdown",
   "metadata": {},
   "source": [
    "That looks just ridiculous. We better change it back. "
   ]
  },
  {
   "cell_type": "code",
   "execution_count": null,
   "metadata": {
    "collapsed": true
   },
   "outputs": [],
   "source": [
    "my_philosophers['Marx'] = 'Karl'"
   ]
  },
  {
   "cell_type": "markdown",
   "metadata": {},
   "source": [
    "As with lists, we can also combine two dictionaries using the `update` method. "
   ]
  },
  {
   "cell_type": "code",
   "execution_count": null,
   "metadata": {},
   "outputs": [],
   "source": [
    "my_philosophers = {'Marx' : 'Karl', 'Kant' : 'Immanuel', 'Wittgenstein' : 'Ludwig'}\n",
    "my_economists = {'Keynes' : 'John', 'Hayek' : 'Friedrich'}\n",
    "my_philosophers.update(my_economists)\n",
    "print(my_philosophers)"
   ]
  },
  {
   "cell_type": "markdown",
   "metadata": {},
   "source": [
    "### 3.4 Deleting items by keys with `del` and all items with `clear`"
   ]
  },
  {
   "cell_type": "markdown",
   "metadata": {},
   "source": [
    "As with lists you can delete individual items with the `del` statement."
   ]
  },
  {
   "cell_type": "code",
   "execution_count": null,
   "metadata": {},
   "outputs": [],
   "source": [
    "my_philosophers = {'Marx' : 'Karl', 'Butler' : 'Judith', 'Wittgenstein' : 'Ludwig'}\n",
    "print(my_philosophers)"
   ]
  },
  {
   "cell_type": "code",
   "execution_count": null,
   "metadata": {},
   "outputs": [],
   "source": [
    "del my_philosophers['Marx']\n",
    "print(my_philosophers)"
   ]
  },
  {
   "cell_type": "markdown",
   "metadata": {},
   "source": [
    "If you want to clear the whole dictionary, use the `clear` method."
   ]
  },
  {
   "cell_type": "code",
   "execution_count": null,
   "metadata": {},
   "outputs": [],
   "source": [
    "my_philosophers.clear()\n",
    "print(my_philosophers)"
   ]
  },
  {
   "cell_type": "markdown",
   "metadata": {},
   "source": [
    "### 3.5 Getting all keys and/or values, with `keys`, `values`, and `items`"
   ]
  },
  {
   "cell_type": "markdown",
   "metadata": {},
   "source": [
    "Sometimes it is helpful to obtain a list (or iterable) of all values or keys of a dictionary. This can be accomplished using the _keys_ and _values_ methods. If you want all key-value pairs in a list of tuples, you need the method _items_."
   ]
  },
  {
   "cell_type": "code",
   "execution_count": null,
   "metadata": {},
   "outputs": [],
   "source": [
    "my_philosophers = {'Marx' : 'Karl', 'Taylor Mill' : 'Harriet', 'Wittgenstein' : 'Ludwig'}\n",
    "my_philosophers.keys()"
   ]
  },
  {
   "cell_type": "code",
   "execution_count": null,
   "metadata": {},
   "outputs": [],
   "source": [
    "list(my_philosophers.keys())"
   ]
  },
  {
   "cell_type": "code",
   "execution_count": null,
   "metadata": {},
   "outputs": [],
   "source": [
    "list(my_philosophers.values())"
   ]
  },
  {
   "cell_type": "code",
   "execution_count": null,
   "metadata": {},
   "outputs": [],
   "source": [
    "list(my_philosophers.items())"
   ]
  },
  {
   "cell_type": "markdown",
   "metadata": {},
   "source": [
    "### 3.6 Membership by key with `in`"
   ]
  },
  {
   "cell_type": "markdown",
   "metadata": {},
   "source": [
    "Well, testing for membership works similar to lists but you can only do it with keys"
   ]
  },
  {
   "cell_type": "code",
   "execution_count": null,
   "metadata": {},
   "outputs": [],
   "source": [
    "my_philosophers = {'Marx' : 'Karl', 'Taylor Mill' : 'Harriet', 'Wittgenstein' : 'Ludwig'}\n",
    "'Marx' in my_philosophers"
   ]
  },
  {
   "cell_type": "code",
   "execution_count": null,
   "metadata": {},
   "outputs": [],
   "source": [
    "'Karl' in my_philosophers"
   ]
  },
  {
   "cell_type": "markdown",
   "metadata": {},
   "source": [
    "### 3.7 The caveat again: new dictionaries "
   ]
  },
  {
   "cell_type": "markdown",
   "metadata": {},
   "source": [
    "Since dictionaries are mutable we have to be careful when we want to create a new dictionary and not only give it a second name. As with lists, this problem can be circumvented by using the `copy` method and the `dict` function. "
   ]
  },
  {
   "cell_type": "code",
   "execution_count": 1,
   "metadata": {},
   "outputs": [
    {
     "name": "stdout",
     "output_type": "stream",
     "text": [
      "{'Marx': 'Karl', 'Kant': 'Immanuel', 'Wittgenstein': 'Ludwig'}\n",
      "{'Marx': 'Karl', 'Kant': 'Immanuel', 'Wittgenstein': 'Ludwig'}\n"
     ]
    }
   ],
   "source": [
    "my_philosophers = {'Marx' : 'Karl', 'Kant' : 'Immanuel', 'Wittgenstein' : 'Ludwig'}\n",
    "\n",
    "my_philosophers2 = dict(my_philosophers)\n",
    "my_philosophers3 = my_philosophers.copy()\n",
    "\n",
    "del my_philosophers['Marx']\n",
    "\n",
    "print(my_philosophers2)\n",
    "print(my_philosophers3)"
   ]
  },
  {
   "cell_type": "markdown",
   "metadata": {},
   "source": [
    "## Bonus: string formatting with tuples and dictionaries"
   ]
  },
  {
   "cell_type": "markdown",
   "metadata": {},
   "source": [
    "In the past lecture we have seen string formatting. The most advanced thing we would do was"
   ]
  },
  {
   "cell_type": "code",
   "execution_count": 23,
   "metadata": {},
   "outputs": [
    {
     "data": {
      "text/plain": [
       "'My favorite number and economist are 3.14 and Keynes!'"
      ]
     },
     "execution_count": 23,
     "metadata": {},
     "output_type": "execute_result"
    }
   ],
   "source": [
    "fav_number = 3.141592653589793\n",
    "fav_economist = 'Keynes'\n",
    "string = 'My favorite number and economist are {number:1.2f} and {economist:s}!'\n",
    "\n",
    "string.format(number=fav_number, economist=fav_economist)"
   ]
  },
  {
   "cell_type": "markdown",
   "metadata": {},
   "source": [
    "The cool thing about string formatting is the fact that we can name the arguments... exactly as for dictionaries! Indeed the two interact very nicely with each other."
   ]
  },
  {
   "cell_type": "code",
   "execution_count": 24,
   "metadata": {},
   "outputs": [
    {
     "data": {
      "text/plain": [
       "'My favorite number and economist are 3.14 and Keynes!'"
      ]
     },
     "execution_count": 24,
     "metadata": {},
     "output_type": "execute_result"
    }
   ],
   "source": [
    "favorite_stuff = {\n",
    "    'number': 3.141592653589793,\n",
    "    'economist': 'Keynes',\n",
    "}\n",
    "\n",
    "string.format(**favorite_stuff)"
   ]
  },
  {
   "cell_type": "markdown",
   "metadata": {},
   "source": [
    "Moreover, it the `format` function only reads relevant arguments."
   ]
  },
  {
   "cell_type": "code",
   "execution_count": 25,
   "metadata": {},
   "outputs": [
    {
     "data": {
      "text/plain": [
       "'My favorite number and economist are 3.14 and Keynes!'"
      ]
     },
     "execution_count": 25,
     "metadata": {},
     "output_type": "execute_result"
    }
   ],
   "source": [
    "favorite_stuff = {\n",
    "    'number': 3.141592653589793,\n",
    "    'economist': 'Keynes',\n",
    "    'color': 'blue'\n",
    "}\n",
    "\n",
    "string.format(**favorite_stuff)"
   ]
  },
  {
   "cell_type": "markdown",
   "metadata": {},
   "source": [
    "If we wanted to pass multiple inputs using placeholders, we can do it, but we have to use tuples."
   ]
  },
  {
   "cell_type": "code",
   "execution_count": 27,
   "metadata": {},
   "outputs": [
    {
     "data": {
      "text/plain": [
       "'My favorite number and economist are 3.14 and Keynes!'"
      ]
     },
     "execution_count": 27,
     "metadata": {},
     "output_type": "execute_result"
    }
   ],
   "source": [
    "'My favorite number and economist are %1.2f and %s!' %  (3.141592653589793, 'Keynes')"
   ]
  },
  {
   "cell_type": "markdown",
   "metadata": {},
   "source": [
    "The syntax is more compact, but now we are limited to ordered \"anonymous\" tuples."
   ]
  },
  {
   "cell_type": "markdown",
   "metadata": {},
   "source": [
    "## Sources"
   ]
  },
  {
   "cell_type": "markdown",
   "metadata": {},
   "source": [
    "The structure of exposition was taken from Bill Lubanovic (2015): Introducing Python: Modern Computing in Simple Packages. O'Reilly: Sebastopol, CA."
   ]
  }
 ],
 "metadata": {
  "kernelspec": {
   "display_name": "Python 3",
   "language": "python",
   "name": "python3"
  },
  "language_info": {
   "codemirror_mode": {
    "name": "ipython",
    "version": 3
   },
   "file_extension": ".py",
   "mimetype": "text/x-python",
   "name": "python",
   "nbconvert_exporter": "python",
   "pygments_lexer": "ipython3",
   "version": "3.7.5"
  }
 },
 "nbformat": 4,
 "nbformat_minor": 1
}
